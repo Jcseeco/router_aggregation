{
 "cells": [
  {
   "cell_type": "markdown",
   "metadata": {},
   "source": [
    "Import library"
   ]
  },
  {
   "cell_type": "code",
   "execution_count": null,
   "metadata": {},
   "outputs": [],
   "source": [
    "from fabrictestbed_extensions.fablib.fablib import FablibManager as fablib_manager\n",
    "fablib = fablib_manager() \n",
    "conf = fablib.show_config()"
   ]
  },
  {
   "cell_type": "markdown",
   "metadata": {},
   "source": [
    "Get slice"
   ]
  },
  {
   "cell_type": "code",
   "execution_count": null,
   "metadata": {},
   "outputs": [],
   "source": [
    "slice_name=\"router_aggregation\"\n",
    "try:\n",
    "    slice = fablib.get_slice(slice_name)\n",
    "except:\n",
    "    print(\"You don't have a slice named %s yet.\" % slice_name)"
   ]
  },
  {
   "cell_type": "markdown",
   "metadata": {},
   "source": [
    "Download resources and install required python packages"
   ]
  },
  {
   "cell_type": "code",
   "execution_count": null,
   "metadata": {},
   "outputs": [],
   "source": [
    "# this executes in the background\n",
    "for n in slice.get_nodes():\n",
    "    t = n.execute_thread(\"git clone https://github.com/Jcseeco/router_aggregation.git\")"
   ]
  },
  {
   "cell_type": "code",
   "execution_count": null,
   "metadata": {},
   "outputs": [],
   "source": [
    "# install required python packages on servers\n",
    "for i in range(2):\n",
    "    n = slice.get_node(\"server\"+str(i+1))\n",
    "    n.execute(\"yes | sudo apt install python3-pip\")\n",
    "    n.execute_thread(\"yes | pip3 install fastapi pydantic uvicorn\")"
   ]
  },
  {
   "cell_type": "code",
   "execution_count": null,
   "metadata": {},
   "outputs": [],
   "source": [
    "# install required python packages on routers\n",
    "# scapy requires to be installed with admin\n",
    "for i in range(2):\n",
    "    n = slice.get_node('router'+str(i+1))\n",
    "    n.execute(\"yes | sudo apt install python3-pip\")\n",
    "    n.execute_thread(\"yes | sudo pip3 install scapy pydantic\")"
   ]
  }
 ],
 "metadata": {
  "language_info": {
   "name": "python"
  }
 },
 "nbformat": 4,
 "nbformat_minor": 2
}
