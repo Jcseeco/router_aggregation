{
 "cells": [
  {
   "cell_type": "markdown",
   "metadata": {},
   "source": [
    "Import library"
   ]
  },
  {
   "cell_type": "code",
   "execution_count": null,
   "metadata": {},
   "outputs": [],
   "source": [
    "from fabrictestbed_extensions.fablib.fablib import FablibManager as fablib_manager\n",
    "fablib = fablib_manager() \n",
    "conf = fablib.show_config()"
   ]
  },
  {
   "cell_type": "markdown",
   "metadata": {},
   "source": [
    "Get slice"
   ]
  },
  {
   "cell_type": "code",
   "execution_count": null,
   "metadata": {},
   "outputs": [],
   "source": [
    "slice_name=\"router_aggregation\"\n",
    "try:\n",
    "    slice = fablib.get_slice(slice_name)\n",
    "except:\n",
    "    print(\"You don't have a slice named %s yet.\" % slice_name)"
   ]
  },
  {
   "cell_type": "code",
   "execution_count": null,
   "metadata": {},
   "outputs": [],
   "source": [
    "# list ssh commands\n",
    "for n in slice.get_nodes():\n",
    "    print(f\"{n.get_name()}: {n.get_ssh_command()}\")"
   ]
  },
  {
   "cell_type": "markdown",
   "metadata": {},
   "source": [
    "## Run experiment\n",
    "\n",
    "### Server\n",
    "\n",
    "1. login to the servers using the ssh commands\n",
    "2. run\n",
    "```bash\n",
    "cd router_aggregation\n",
    "# use port 8001 for the server that will be receiving the aggregated data\n",
    "python3 -m uvicorn server:app --host 0.0.0.0 --port 8000\n",
    "```"
   ]
  },
  {
   "cell_type": "markdown",
   "metadata": {},
   "source": [
    "### Router\n",
    "\n",
    "1. login to the servers using the ssh commands\n",
    "2. run\n",
    "```bash\n",
    "cd router_aggregation\n",
    "# the router ID will be used as a label for the logged results\n",
    "sudo python3 router.py -ri <give any str as ID to the router> -fh <host name that receives original client data> -fp <port of that server>\n",
    "```"
   ]
  },
  {
   "cell_type": "markdown",
   "metadata": {},
   "source": [
    "### Client\n",
    "\n",
    "1. login to the servers using the ssh commands\n",
    "2. run\n",
    "```bash\n",
    "cd router_aggregation\n",
    "# example command sudo python3 client.py -dst htt://server1:8000\n",
    "sudo python3 client.py -dst <full url of http request destination>\n",
    "```\n",
    "\n",
    "There are more options for the client, use --help to get descriptions of each arguement"
   ]
  },
  {
   "cell_type": "markdown",
   "metadata": {},
   "source": [
    "## Getting results\n",
    "\n",
    "After clients finished their requests, there will be logged files on servers containing the values and timestamps of the experiment process"
   ]
  },
  {
   "cell_type": "code",
   "execution_count": null,
   "metadata": {},
   "outputs": [],
   "source": [
    "# Results for today are over written upon next exection\n",
    "from datetime import datetime\n",
    "today = datetime.now().strftime(\"%m-%d\")\n",
    "f_suffix = f\"_{today}.csv\""
   ]
  },
  {
   "cell_type": "code",
   "execution_count": null,
   "metadata": {},
   "outputs": [],
   "source": [
    "# This downloads the logged files into repository\n",
    "slice.get_node(\"server1\").download_file(\"/home/fabric/work/router_aggregation/client_data\" + f_suffix, \"/home/ubuntu/router_aggregation/client_data\" + f_suffix)\n",
    "slice.get_node(\"server2\").download_file(\"/home/fabric/work/router_aggregation/region_data\" + f_suffix, \"/home/ubuntu/router_aggregation/region_data\" + f_suffix)"
   ]
  }
 ],
 "metadata": {
  "language_info": {
   "name": "python"
  }
 },
 "nbformat": 4,
 "nbformat_minor": 2
}
