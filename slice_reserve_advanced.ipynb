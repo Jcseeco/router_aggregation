{
 "cells": [
  {
   "cell_type": "markdown",
   "metadata": {},
   "source": [
    "show config"
   ]
  },
  {
   "cell_type": "code",
   "execution_count": null,
   "metadata": {},
   "outputs": [],
   "source": [
    "from fabrictestbed_extensions.fablib.fablib import FablibManager as fablib_manager\n",
    "fablib = fablib_manager() \n",
    "conf = fablib.show_config()"
   ]
  },
  {
   "cell_type": "markdown",
   "metadata": {},
   "source": [
    "node configs"
   ]
  },
  {
   "cell_type": "code",
   "execution_count": null,
   "metadata": {},
   "outputs": [],
   "source": [
    "slice_name=\"router_aggregation_advanced\"\n",
    "\n",
    "node_conf = [\n",
    "    {'name': \"router1\",  'cores': 2, 'ram': 4, 'disk': 10, 'image': 'default_ubuntu_20', 'packages': ['net-tools']}, \n",
    "    {'name': \"client1\",   'cores': 1, 'ram': 4, 'disk': 6, 'image': 'default_ubuntu_20', 'packages': ['net-tools']}, \n",
    "    {'name': \"client2\",   'cores': 1, 'ram': 4, 'disk': 6, 'image': 'default_ubuntu_20', 'packages': ['net-tools']}, \n",
    "    \n",
    "    {'name': \"router2\",  'cores': 2, 'ram': 4, 'disk': 10, 'image': 'default_ubuntu_20', 'packages': ['net-tools']},\n",
    "    {'name': \"client3\",   'cores': 1, 'ram': 4, 'disk': 6, 'image': 'default_ubuntu_20', 'packages': ['net-tools']}, \n",
    "    {'name': \"client4\",   'cores': 1, 'ram': 4, 'disk': 6, 'image': 'default_ubuntu_20', 'packages': ['net-tools']}, \n",
    "    \n",
    "    {'name': \"hooke\",  'cores': 2, 'ram': 4, 'disk': 10, 'image': 'default_ubuntu_20', 'packages': ['net-tools']}, \n",
    "    {'name': \"newton\",  'cores': 2, 'ram': 4, 'disk': 10, 'image': 'default_ubuntu_20', 'packages': ['net-tools']}, \n",
    "]\n",
    "net_conf = [\n",
    "    {\"name\": \"net_r1\", \"subnet\": \"10.10.1.0/24\", \n",
    "      \"nodes\": [{\"name\": \"client1\",  \"addr\": \"10.10.1.100\"}, {\"name\": \"client2\", \"addr\": \"10.10.1.200\"}, {\"name\": \"router1\", \"addr\": \"10.10.1.10\"}]},\n",
    "  \n",
    "    {\"name\": \"net_r2\", \"subnet\": \"10.10.2.0/24\", \n",
    "      \"nodes\": [{\"name\": \"client3\",  \"addr\": \"10.10.2.100\"}, {\"name\": \"client4\",  \"addr\": \"10.10.2.200\"}, {\"name\": \"router2\", \"addr\": \"10.10.2.10\"}]},\n",
    " \n",
    "    {\"name\": \"net_newton\", \"subnet\": \"10.10.3.0/24\", \n",
    "      \"nodes\": [{\"name\": \"newton\",  \"addr\": \"10.10.3.100\"}, {\"name\": \"router1\", \"addr\": \"10.10.3.10\"}, {\"name\": \"router2\", \"addr\": \"10.10.3.20\"}]},\n",
    "    {\"name\": \"net_hooke\", \"subnet\": \"10.10.4.0/24\", \n",
    "      \"nodes\": [{\"name\": \"hooke\",  \"addr\": \"10.10.4.100\"}, {\"name\": \"router1\", \"addr\": \"10.10.4.10\"}, {\"name\": \"router2\", \"addr\": \"10.10.4.20\"}]},\n",
    "  \n",
    "#  {\"name\": \"net_r\", \"subnet\": \"10.10.1.0/24\", \"nodes\": [{\"name\": \"romeo\",  \"addr\": \"10.10.1.100\"}, {\"name\": \"router\", \"addr\": \"10.10.1.10\"}]},\n",
    "#  {\"name\": \"net_j\", \"subnet\": \"10.10.2.0/24\", \"nodes\": [{\"name\": \"juliet\", \"addr\": \"10.10.2.100\"}, {\"name\": \"router\", \"addr\": \"10.10.2.10\"}]},\n",
    "]\n",
    "route_conf = [\n",
    " {\"addr\": \"10.10.3.0/24\", \"gw\": \"10.10.1.10\", \"nodes\": [\"client1\",\"client2\"]}, \n",
    " {\"addr\": \"10.10.4.0/24\", \"gw\": \"10.10.1.10\", \"nodes\": [\"client1\",\"client2\"]}, \n",
    " {\"addr\": \"10.10.3.0/24\", \"gw\": \"10.10.2.10\", \"nodes\": [\"client3\",\"client4\"]}, \n",
    " {\"addr\": \"10.10.4.0/24\", \"gw\": \"10.10.2.10\", \"nodes\": [\"client3\",\"client4\"]}, \n",
    " \n",
    " {\"addr\": \"10.10.1.0/24\", \"gw\": \"10.10.3.10\", \"nodes\": [\"newton\"]}, \n",
    " {\"addr\": \"10.10.2.0/24\", \"gw\": \"10.10.3.20\", \"nodes\": [\"newton\"]}, \n",
    " \n",
    " {\"addr\": \"10.10.1.0/24\", \"gw\": \"10.10.4.10\", \"nodes\": [\"hooke\"]}, \n",
    " {\"addr\": \"10.10.2.0/24\", \"gw\": \"10.10.4.20\", \"nodes\": [\"hooke\"]}, \n",
    " \n",
    "#  {\"addr\": \"10.10.1.0/24\", \"gw\": \"10.10.2.10\", \"nodes\": [\"juliet\"]}, \n",
    "#  {\"addr\": \"10.10.2.0/24\", \"gw\": \"10.10.1.10\", \"nodes\": [\"romeo\"]}\n",
    "]\n",
    "exp_conf = {'cores': sum([ n['cores'] for n in node_conf]), 'nic': sum([len(n['nodes']) for n in net_conf]) }"
   ]
  },
  {
   "cell_type": "markdown",
   "metadata": {},
   "source": [
    "Reserve resources"
   ]
  },
  {
   "cell_type": "code",
   "execution_count": null,
   "metadata": {},
   "outputs": [],
   "source": [
    "try:\n",
    "    slice = fablib.get_slice(slice_name)\n",
    "    print(\"You already have a slice by this name!\")\n",
    "    print(\"If you previously reserved resources, skip to the 'log in to resources' section.\")\n",
    "except:\n",
    "    print(\"You don't have a slice named %s yet.\" % slice_name)\n",
    "    print(\"Continue to the next step to make one.\")\n",
    "    slice = fablib.new_slice(name=slice_name)"
   ]
  },
  {
   "cell_type": "code",
   "execution_count": null,
   "metadata": {},
   "outputs": [],
   "source": [
    "# select a random site\n",
    "while True:\n",
    "    site_name = fablib.get_random_site()\n",
    "    if ( (fablib.resources.get_core_available(site_name) > 1.2*exp_conf['cores']) and\n",
    "        (fablib.resources.get_component_available(site_name, 'SharedNIC-ConnectX-6') > 1.2**exp_conf['nic']) ):\n",
    "        break\n",
    "\n",
    "# fablib.show_site(site_name)\n",
    "print(site_name)"
   ]
  },
  {
   "cell_type": "code",
   "execution_count": null,
   "metadata": {},
   "outputs": [],
   "source": [
    "# this cell sets up the nodes\n",
    "for n in node_conf:\n",
    "    slice.add_node(name=n['name'], site=site_name, \n",
    "                cores=n['cores'], \n",
    "                ram=n['ram'], \n",
    "                disk=n['disk'], \n",
    "                image=n['image'])"
   ]
  },
  {
   "cell_type": "code",
   "execution_count": null,
   "metadata": {},
   "outputs": [],
   "source": [
    "# this cell sets up the network segments\n",
    "for n in net_conf:\n",
    "    ifaces = [slice.get_node(node[\"name\"]).add_component(model=\"NIC_Basic\", \n",
    "                                                name=n[\"name\"]).get_interfaces()[0] for node in n['nodes'] ]\n",
    "    slice.add_l2network(name=n[\"name\"], type='L2Bridge', interfaces=ifaces)"
   ]
  },
  {
   "cell_type": "code",
   "execution_count": null,
   "metadata": {},
   "outputs": [],
   "source": [
    "slice.submit()"
   ]
  },
  {
   "cell_type": "code",
   "execution_count": null,
   "metadata": {},
   "outputs": [],
   "source": [
    "# install packages\n",
    "# this will take a while and will run in background while you do other steps\n",
    "for n in node_conf:\n",
    "    if len(n['packages']):\n",
    "        node = slice.get_node(n['name'])\n",
    "        pkg = \" \".join(n['packages'])\n",
    "        node.execute_thread(\"sudo apt update; sudo apt -y install %s\" % pkg)"
   ]
  },
  {
   "cell_type": "code",
   "execution_count": null,
   "metadata": {},
   "outputs": [],
   "source": [
    "# bring interfaces up and either assign an address (if there is one) or flush address\n",
    "from ipaddress import ip_address, IPv4Address, IPv4Network\n",
    "\n",
    "for net in net_conf:\n",
    "    for n in net['nodes']:\n",
    "        if_name = n['name'] + '-' + net['name'] + '-p1'\n",
    "        iface = slice.get_interface(if_name)\n",
    "        iface.ip_link_up()\n",
    "        if n['addr']:\n",
    "            iface.ip_addr_add(addr=n['addr'], subnet=IPv4Network(net['subnet']))\n",
    "        else:\n",
    "            iface.get_node().execute(\"sudo ip addr flush dev %s\"  % iface.get_device_name())"
   ]
  },
  {
   "cell_type": "code",
   "execution_count": null,
   "metadata": {},
   "outputs": [],
   "source": [
    "# prepare a \"hosts\" file that has names and addresses of every node\n",
    "hosts_txt = [ \"%s\\t%s\" % ( n['addr'], n['name'] ) for net in net_conf  for n in net['nodes'] if type(n) is dict and n['addr']]\n",
    "for n in slice.get_nodes():\n",
    "    for h in hosts_txt:\n",
    "        n.execute(\"echo %s | sudo tee -a /etc/hosts\" % h)"
   ]
  },
  {
   "cell_type": "code",
   "execution_count": null,
   "metadata": {},
   "outputs": [],
   "source": [
    "# enable IPv4 forwarding on all nodes\n",
    "for n in slice.get_nodes():\n",
    "    n.execute(\"sudo sysctl -w net.ipv4.ip_forward=1\")"
   ]
  },
  {
   "cell_type": "code",
   "execution_count": null,
   "metadata": {},
   "outputs": [],
   "source": [
    "# set up static routes\n",
    "for rt in route_conf:\n",
    "    for n in rt['nodes']:\n",
    "        slice.get_node(name=n).ip_route_add(subnet=IPv4Network(rt['addr']), gateway=rt['gw'])"
   ]
  },
  {
   "cell_type": "code",
   "execution_count": null,
   "metadata": {},
   "outputs": [],
   "source": [
    "# extend expiration\n",
    "from datetime import datetime\n",
    "from datetime import timezone\n",
    "from datetime import timedelta\n",
    "\n",
    "# Set end date to 7 days from now\n",
    "end_date = (datetime.now(timezone.utc) + timedelta(days=7)).strftime(\"%Y-%m-%d %H:%M:%S %z\")\n",
    "slice.renew(end_date)"
   ]
  }
 ],
 "metadata": {
  "language_info": {
   "name": "python"
  }
 },
 "nbformat": 4,
 "nbformat_minor": 2
}
